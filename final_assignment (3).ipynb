{
 "cells": [
  {
   "cell_type": "code",
   "execution_count": 4,
   "id": "c49a1a2f",
   "metadata": {},
   "outputs": [
    {
     "name": "stdout",
     "output_type": "stream",
     "text": [
      "                                                                                      Product;Supplier;Month;Stock level;Unit;Scrapped;Reasoncode;Unit price;Stock value;Purchased\n",
      "Coffee bag w/valve 0 5;ProPack;January; 100.000 ; Piece ; -   ;; € 0    40 ; € 40.000                                          00 ; -                                             \n",
      "                     5;ProPack;February; 80.000 ; Piece ; -   ;; € 0    40 ; € 32.000                                          00 ; -                                             \n",
      "                     5;ProPack;March; 60.000 ; Piece ; -   ;; € 0       40 ; € 24.000                                          00 ; -                                             \n",
      "                     5;ProPack;April; 50.000 ; Piece ; -   ;; € 0       40 ; € 20.000                                          00 ; -                                             \n",
      "                     5;ProPack;May; 30.000 ; Piece ; -   ;; € 0         40 ; € 12.000                                          00 ; -                                             \n",
      "                     5;ProPack;June; 110.000 ; Piece ; -10.000 ;DAM;... 40 ; € 44.000                                         00 ;100000                                          \n",
      "                     5;ProPack;July; 100.000 ; Piece ; -   ;; € 0       40 ; € 40.000                                          00 ; -                                             \n",
      "                     5;ProPack;August; 80.000 ; Piece ; -   ;; € 0      40 ; € 32.000                                          00 ; -                                             \n",
      "                     5;ProPack;September; 60.000 ; Piece ; -   ;; € 0   40 ; € 24.000                                          00 ; -                                             \n",
      "                     5;ProPack;October; 50.000 ; Piece ; -   ;; € 0     40 ; € 20.000                                          00 ; -                                             \n"
     ]
    }
   ],
   "source": [
    "import pandas as pd\n",
    "\n",
    "# Load your CSV file\n",
    "path = \"Inventory data.csv\"\n",
    "df = pd.read_csv(path)\n",
    "\n",
    "# Show the first 10 rows (with all columns visible)\n",
    "with pd.option_context('display.max_columns', None):\n",
    "    print(df.head(10))\n"
   ]
  },
  {
   "cell_type": "code",
   "execution_count": null,
   "id": "de717352",
   "metadata": {},
   "outputs": [],
   "source": [
    "# --- Clean display for Inventory data (easy table + summary)\n",
    "import pandas as pd\n",
    "import numpy as np\n",
    "from IPython.display import display, HTML\n",
    "\n",
    "# Load dataframe if not already present\n",
    "if 'df' not in globals():\n",
    "    path = \"Inventory data.csv\"\n",
    "    try:\n",
    "        df = pd.read_csv(path)\n",
    "        print(f\"Loaded '{path}' into df\")\n",
    "    except Exception as e:\n",
    "        raise RuntimeError(f\"Could not load '{path}': {e}\")\n",
    "\n",
    "# Normalize column names: strip and replace spaces with underscores\n",
    "df.columns = [str(c).strip() for c in df.columns]\n",
    "\n",
    "# Show shape and columns\n",
    "display(HTML(f\"<h3>Inventory — shape: {df.shape}</h3>\"))\n",
    "display(HTML('<b>Columns:</b> ' + ', '.join(df.columns)))\n",
    "\n",
    "# Nicely display the first 20 rows with styling for numeric columns\n",
    "pd.set_option('display.max_columns', None)\n",
    "pd.set_option('display.width', None)\n",
    "display(HTML('<h4>First 20 rows (styled)</h4>'))\n",
    "if df.shape[0] == 0:\n",
    "    display(HTML('<b>Dataframe is empty.</b>'))\n",
    "else:\n",
    "    # Highlight numeric columns with a gradient and keep strings plain\n",
    "    num_cols = df.select_dtypes(include=[np.number]).columns.tolist()\n",
    "    if len(num_cols) > 0:\n",
    "        styled = df.head(20).style.background_gradient(subset=num_cols, cmap='Blues')\n",
    "    else:\n",
    "        styled = df.head(20).style\n",
    "    display(styled)\n",
    "\n",
    "# Show missing values (descending)\n",
    "missing = df.isnull().sum().sort_values(ascending=False)\n",
    "display(HTML('<h4>Missing values (descending)</h4>'))\n",
    "if missing.sum() == 0:\n",
    "    display(HTML('<b>No missing values detected ✅</b>'))\n",
    "else:\n",
    "    display(missing[missing>0])\n",
    "\n",
    "# Show data types and a concise numeric summary\n",
    "display(HTML('<h4>Data types</h4>'))\n",
    "display(df.dtypes)\n",
    "num_cols = df.select_dtypes(include=[np.number]).columns.tolist()\n",
    "if len(num_cols) > 0:\n",
    "    display(HTML('<h4>Numeric summary</h4>'))\n",
    "    display(df[num_cols].describe().T)\n",
    "\n",
    "# For categorical/object columns, show up to top-5 value counts for each (keeps it short)\n",
    "cat_cols = [c for c in df.columns if df[c].dtype == 'object' or df[c].nunique() < 30]\n",
    "display(HTML('<h4>Top values for categorical columns (up to 5)</h4>'))\n",
    "for c in cat_cols:\n",
    "    vc = df[c].value_counts().head(5)\n",
    "    if len(vc)>0:\n",
    "        display(HTML(f\"<b>{c}</b> (unique: {df[c].nunique()}):\"))\n",
    "        display(vc.to_frame())\n",
    "\n",
    "# Helpful export: save a cleaned copy (optional)\n",
    "clean_path = 'Inventory_data_clean.csv'\n",
    "df.to_csv(clean_path, index=False)\n",
    "display(HTML(f\"<p>Saved cleaned CSV to <code>{clean_path}</code></p>\"))\n",
    "\n",
    "display(HTML('<p style=\"color:green;\"><b>Tip:</b> Click the cell and run it (Shift+Enter) to refresh the table after edits.</p>'))"
   ]
  }
 ],
 "metadata": {
  "kernelspec": {
   "display_name": "Python 3",
   "language": "python",
   "name": "python3"
  },
  "language_info": {
   "codemirror_mode": {
    "name": "ipython",
    "version": 3
   },
   "file_extension": ".py",
   "mimetype": "text/x-python",
   "name": "python",
   "nbconvert_exporter": "python",
   "pygments_lexer": "ipython3",
   "version": "3.12.1"
  }
 },
 "nbformat": 4,
 "nbformat_minor": 5
}
